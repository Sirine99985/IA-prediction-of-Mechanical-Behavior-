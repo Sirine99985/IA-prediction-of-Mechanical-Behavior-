{
  "nbformat": 4,
  "nbformat_minor": 0,
  "metadata": {
    "colab": {
      "provenance": [],
      "authorship_tag": "ABX9TyOgSb1ShwruomAXBSflZjvd",
      "include_colab_link": true
    },
    "kernelspec": {
      "name": "python3",
      "display_name": "Python 3"
    },
    "language_info": {
      "name": "python"
    }
  },
  "cells": [
    {
      "cell_type": "markdown",
      "metadata": {
        "id": "view-in-github",
        "colab_type": "text"
      },
      "source": [
        "<a href=\"https://colab.research.google.com/github/Sirine99985/IA-prediction-of-Mechanical-Behavior-/blob/main/validation_statique.ipynb\" target=\"_parent\"><img src=\"https://colab.research.google.com/assets/colab-badge.svg\" alt=\"Open In Colab\"/></a>"
      ]
    },
    {
      "cell_type": "markdown",
      "source": [
        "# #Prédiction pour une pourcentage 20% RECT  (Le_Trans max (%))\n"
      ],
      "metadata": {
        "id": "pPKREgCVf4Te"
      }
    },
    {
      "cell_type": "code",
      "execution_count": null,
      "metadata": {
        "colab": {
          "base_uri": "https://localhost:8080/"
        },
        "id": "044kUbBk797m",
        "outputId": "e6625a8c-a0d6-4dec-c19a-55a4b963f7fd"
      },
      "outputs": [
        {
          "output_type": "stream",
          "name": "stdout",
          "text": [
            "Index(['U max (mm)', 'F max (kN)', 'S max (MPa)', 'LE_Longi max (%)',\n",
            "       'LE_Trans max (%)', 'Coef Poisson', 'E (GPa)', 'LE (%) ',\n",
            "       'S (MPa) =F/S'],\n",
            "      dtype='object')\n",
            "[-1.67956666  0.35006074]\n"
          ]
        }
      ],
      "source": [
        "#Prédiction pour une pourcentage 20% RECT  (Le_Trans max (%))\n",
        "import pandas as pd\n",
        "from sklearn.linear_model import LinearRegression\n",
        "import matplotlib.pyplot as plt\n",
        "\n",
        "\n",
        "# Lecture des données à partir d'un fichier CSV\n",
        "data = pd.read_excel('/content/Rect20% Traction.xlsx')\n",
        "data.dropna(inplace=True)\n",
        "print(data.columns)\n",
        "data['Index'] = range(1, len(data)+1 )\n",
        "#data.to_csv('/content/Datatestt.csv', index=False)\n",
        "\n",
        "\n",
        "# Sélection des variables explicatives (X) et de la variable cible (y)\n",
        "X = data[['S max (MPa)', 'F max (kN)']]\n",
        "y = data['LE_Trans max (%)']\n",
        "\n",
        "# Création d'un objet de régression linéaire\n",
        "regressor = LinearRegression()\n",
        "\n",
        "# Entraînement du modèle de régression linéaire\n",
        "regressor.fit(X, y)\n",
        "\n",
        "# Prédiction de valeurs intermédiaires pour de nouvelles données\n",
        "nouvelles_donnees = pd.DataFrame({'S max (MPa)': [26.8885333,0.10866123],\n",
        "                                  'F max (kN)': [1.04796667,0.00159478]})\n",
        "predictions = regressor.predict(nouvelles_donnees)\n",
        "\n",
        "# Affichage des prédictions\n",
        "print(predictions)\n",
        "plt.plot (predictions)\n",
        "plt.scatter(range(len(predictions)), predictions)\n",
        "plt.show()"
      ]
    },
    {
      "cell_type": "markdown",
      "source": [
        "#Prédiction pour une pourcentage 50% RECT  (Le_Trans max (%))\n"
      ],
      "metadata": {
        "id": "eR1NqTzvgDCe"
      }
    },
    {
      "cell_type": "code",
      "source": [
        "#Prédiction pour une pourcentage 50% RECT  (Le_Trans max (%))\n",
        "import pandas as pd\n",
        "from sklearn.linear_model import LinearRegression\n",
        "import matplotlib.pyplot as plt\n",
        "\n",
        "\n",
        "# Lecture des données à partir d'un fichier CSV\n",
        "data = pd.read_excel('/content/Rect50% Traction.xlsx')\n",
        "data.dropna(inplace=True)\n",
        "print(data.columns)\n",
        "data['Index'] = range(1, len(data)+1 )\n",
        "#data.to_csv('/content/Datatestt.csv', index=False)\n",
        "\n",
        "\n",
        "# Sélection des variables explicatives (X) et de la variable cible (y)\n",
        "X = data[['S max (MPa)', 'F max (kN)']]\n",
        "y = data['LE_Trans max (%)']\n",
        "\n",
        "# Création d'un objet de régression linéaire\n",
        "regressor = LinearRegression()\n",
        "\n",
        "# Entraînement du modèle de régression linéaire\n",
        "regressor.fit(X, y)\n",
        "\n",
        "# Prédiction de valeurs intermédiaires pour de nouvelles données\n",
        "nouvelles_donnees = pd.DataFrame({'S max (MPa)': [32.1646333,0.21665471],\n",
        "                                  'F max (kN)': [1.2337,0.00471593]})\n",
        "predictions = regressor.predict(nouvelles_donnees)\n",
        "\n",
        "# Affichage des prédictions\n",
        "print(predictions)\n",
        "plt.plot (predictions)\n",
        "plt.scatter(range(len(predictions)), predictions)\n",
        "plt.show()"
      ],
      "metadata": {
        "colab": {
          "base_uri": "https://localhost:8080/"
        },
        "id": "ST8xLZPR-W_l",
        "outputId": "6e802cc4-abf8-4ed8-9aab-a69f3b93d056"
      },
      "execution_count": null,
      "outputs": [
        {
          "output_type": "stream",
          "name": "stdout",
          "text": [
            "Index(['U max (mm)', 'F max (kN)', 'S max (MPa)', 'LE_Longi max (%)',\n",
            "       'LE_Trans max (%)', 'Coef Poisson', 'E (GPa)', 'LE (%) ',\n",
            "       'S (MPa) =F/S'],\n",
            "      dtype='object')\n",
            "[-4.27073333  0.5142408 ]\n"
          ]
        }
      ]
    },
    {
      "cell_type": "markdown",
      "source": [
        "#Prédiction pour une pourcentage 75% RECT  (Le_Trans max (%))\n"
      ],
      "metadata": {
        "id": "ss47NjsQgK3V"
      }
    },
    {
      "cell_type": "code",
      "source": [
        "#Prédiction pour une pourcentage 75% RECT  (Le_Trans max (%))\n",
        "import pandas as pd\n",
        "from sklearn.linear_model import LinearRegression\n",
        "import matplotlib.pyplot as plt\n",
        "\n",
        "\n",
        "# Lecture des données à partir d'un fichier CSV\n",
        "data = pd.read_excel('/content/Rect75% Traction.xlsx')\n",
        "data.dropna(inplace=True)\n",
        "print(data.columns)\n",
        "data['Index'] = range(1, len(data)+1 )\n",
        "#data.to_csv('/content/Datatestt.csv', index=False)\n",
        "\n",
        "\n",
        "# Sélection des variables explicatives (X) et de la variable cible (y)\n",
        "X = data[['S max (MPa)', 'F max (kN)']]\n",
        "y = data['LE_Trans max (%)']\n",
        "\n",
        "# Création d'un objet de régression linéaire\n",
        "regressor = LinearRegression()\n",
        "\n",
        "# Entraînement du modèle de régression linéaire\n",
        "regressor.fit(X, y)\n",
        "\n",
        "# Prédiction de valeurs intermédiaires pour de nouvelles données\n",
        "nouvelles_donnees = pd.DataFrame({'S max (MPa)': [40.5331667,0.41383628],\n",
        "                                  'F max (kN)': [1.54256667,0.01276493]})\n",
        "predictions = regressor.predict(nouvelles_donnees)\n",
        "\n",
        "# Affichage des prédictions\n",
        "print(predictions)\n",
        "plt.plot (predictions)\n",
        "plt.scatter(range(len(predictions)), predictions)\n",
        "plt.show()"
      ],
      "metadata": {
        "colab": {
          "base_uri": "https://localhost:8080/"
        },
        "id": "RGjWJTQF_R-e",
        "outputId": "a7f50c4e-1ca7-4484-e29f-33a975936e82"
      },
      "execution_count": null,
      "outputs": [
        {
          "output_type": "stream",
          "name": "stdout",
          "text": [
            "Index(['U max (mm)', 'F max (kN)', 'S max (MPa)', 'LE_Longi max (%)',\n",
            "       'LE_Trans max (%)', 'Coef Poisson', 'E (GPa)', 'LE (%) ',\n",
            "       'S (MPa) =F/S'],\n",
            "      dtype='object')\n",
            "[-2.8327      0.56877242]\n"
          ]
        }
      ]
    }
  ]
}